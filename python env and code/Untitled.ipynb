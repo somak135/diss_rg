{
 "cells": [
  {
   "cell_type": "code",
   "execution_count": 1,
   "id": "3e9c2435",
   "metadata": {},
   "outputs": [],
   "source": [
    "import numpy as np\n",
    "import random\n",
    "#import multiprocessing\n",
    "from joblib import Parallel, delayed\n",
    "import matplotlib.pyplot as plt\n",
    "\n",
    "\n",
    "def hardselect(n,p):\n",
    "    size = int(np.floor(n*p))\n",
    "    v = np.array(range(0,n))\n",
    "    taboo = v[:size]\n",
    "    return(taboo)\n",
    "\n",
    "def softselect(M,n,p):\n",
    "    size = int(np.floor(n*p))\n",
    "    v = np.array(range(0,n))\n",
    "    grand_prob = np.sum(M, axis = 1)\n",
    "    prob_vec = grand_prob[0:n]/np.sum(grand_prob[0:n])\n",
    "    taboo = np.random.choice(v, size = size, replace = False, p = prob_vec)\n",
    "    return(taboo)\n",
    "\n",
    "def simulate_graph_maximal(N,p):\n",
    "    M = np.zeros(shape = (N,N), dtype = int)\n",
    "    M[0,1] = 1; M[1,0] = 1\n",
    "    for i in range(2,N):\n",
    "        taboo = hardselect(i, p)\n",
    "        v = range(0, i)\n",
    "        nontaboo = np.setxor1d(v, taboo, assume_unique=True)\n",
    "        nontaboo_incidence = M[nontaboo]\n",
    "        prob_vec = np.sum(nontaboo_incidence, axis = 1)\n",
    "        edge_end = random.choices(nontaboo, weights = prob_vec, k = 1)\n",
    "        M[i, edge_end] = 1\n",
    "        M[edge_end, i] = 1\n",
    "    \n",
    "    #deg_seq = np.sum(M, axis = 1)\n",
    "    max_deg = max(np.sum(M, axis = 1))\n",
    "\n",
    "    return max_deg\n",
    "\n",
    "def simulate_graph_seq(N,p,k):\n",
    "    M = np.zeros(shape = (N,N), dtype = int)\n",
    "    M[0,1] = 1; M[1,0] = 1\n",
    "    for i in range(2,N):\n",
    "        taboo = hardselect(i, p)\n",
    "        v = range(0, i)\n",
    "        nontaboo = np.setxor1d(v, taboo, assume_unique=True)\n",
    "        nontaboo_incidence = M[nontaboo]\n",
    "        prob_vec = np.sum(nontaboo_incidence, axis = 1)\n",
    "        edge_end = random.choices(nontaboo, weights = prob_vec, k = 1)\n",
    "        M[i, edge_end] = 1\n",
    "        M[edge_end, i] = 1\n",
    "    \n",
    "    deg_seq = np.sum(M, axis = 1)\n",
    "    number_of_vertex = deg_seq.count(k)\n",
    "\n",
    "    return number_of_vertex\n",
    "\n",
    "def maximal_plot(N,p,S):\n",
    "    #num_cores = multiprocessing.cpu_count()\n",
    "    inputs = range(0,S)\n",
    "\n",
    "    mylist = []\n",
    "    mylist = Parallel(n_jobs = -1)(delayed(simulate_graph_maximal)(N,p) for i in inputs)\n",
    "    fig, ax = plt.subplots(figsize =(10, 7))\n",
    "    print(np.mean(mylist))\n",
    "    print(np.var(mylist))\n",
    "    ax.hist(mylist)"
   ]
  },
  {
   "cell_type": "code",
   "execution_count": null,
   "id": "6ebfbe3b",
   "metadata": {},
   "outputs": [],
   "source": [
    "%%time\n",
    "maximal_plot(5000, .1, 1000)"
   ]
  },
  {
   "cell_type": "code",
   "execution_count": 8,
   "id": "847edb68",
   "metadata": {},
   "outputs": [
    {
     "data": {
      "text/plain": [
       "2.9166666666666665"
      ]
     },
     "execution_count": 8,
     "metadata": {},
     "output_type": "execute_result"
    }
   ],
   "source": [
    "v = [1,2,3,4,5,6]\n",
    "np.var(v)"
   ]
  },
  {
   "cell_type": "code",
   "execution_count": null,
   "id": "ec5c0f1d",
   "metadata": {},
   "outputs": [],
   "source": []
  }
 ],
 "metadata": {
  "kernelspec": {
   "display_name": "Python 3 (ipykernel)",
   "language": "python",
   "name": "python3"
  },
  "language_info": {
   "codemirror_mode": {
    "name": "ipython",
    "version": 3
   },
   "file_extension": ".py",
   "mimetype": "text/x-python",
   "name": "python",
   "nbconvert_exporter": "python",
   "pygments_lexer": "ipython3",
   "version": "3.8.10"
  }
 },
 "nbformat": 4,
 "nbformat_minor": 5
}
