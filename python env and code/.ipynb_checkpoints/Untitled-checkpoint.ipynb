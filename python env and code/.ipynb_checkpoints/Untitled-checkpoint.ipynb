{
 "cells": [
  {
   "cell_type": "code",
   "execution_count": 52,
   "id": "3e9c2435",
   "metadata": {},
   "outputs": [],
   "source": [
    "import numpy as np\n",
    "import random\n",
    "#import multiprocessing\n",
    "from joblib import Parallel, delayed\n",
    "import matplotlib.pyplot as plt\n",
    "\n",
    "\n",
    "def hardselect(M,n,p):\n",
    "    size = int(np.floor(n*p))\n",
    "    v = np.array(range(0,n))\n",
    "    degree_seq = np.array(np.sum(M, axis = 1)[0:n])\n",
    "    nontaboo_degree_max = np.sort(degree_seq)[(n-1-size)]\n",
    "    taboo = degree_seq[degree_seq > nontaboo_degree_max]\n",
    "    return taboo\n",
    "    \n",
    "\n",
    "def softselect(M,n,p):\n",
    "    size = int(np.floor(n*p))\n",
    "    v = np.array(range(0,n))\n",
    "    grand_prob = np.sum(M, axis = 1)\n",
    "    prob_vec = grand_prob[0:n]/np.sum(grand_prob[0:n])\n",
    "    taboo = np.random.choice(v, size = size, replace = False, p = prob_vec)\n",
    "    return taboo\n",
    "\n",
    "def simulate_graph_maximal(N,p):\n",
    "    M = np.zeros(shape = (N,N), dtype = int)\n",
    "    M[0,1] = 1; M[1,0] = 1\n",
    "    for i in range(2,N):\n",
    "        taboo = softselect(M,i, p)\n",
    "        v = range(0, i)\n",
    "        nontaboo = np.setxor1d(v, taboo, assume_unique=True)\n",
    "        nontaboo_incidence = M[nontaboo]\n",
    "        prob_vec = np.sum(nontaboo_incidence, axis = 1)\n",
    "        edge_end = random.choices(nontaboo, weights = prob_vec, k = 1)\n",
    "        M[i, edge_end] = 1\n",
    "        M[edge_end, i] = 1\n",
    "    \n",
    "    #deg_seq = np.sum(M, axis = 1)\n",
    "    max_deg = max(np.sum(M, axis = 1))\n",
    "\n",
    "    return max_deg\n",
    "\n",
    "def simulate_graph_seq(N,p,k):\n",
    "    M = np.zeros(shape = (N,N), dtype = int)\n",
    "    M[0,1] = 1; M[1,0] = 1\n",
    "    for i in range(2,N):\n",
    "        taboo = hardselect(M,i, p)\n",
    "        v = range(0, i)\n",
    "        nontaboo = np.setxor1d(v, taboo, assume_unique=True)\n",
    "        nontaboo_incidence = M[nontaboo]\n",
    "        prob_vec = np.sum(nontaboo_incidence, axis = 1)\n",
    "        edge_end = random.choices(nontaboo, weights = prob_vec, k = 1)\n",
    "        M[i, edge_end] = 1\n",
    "        M[edge_end, i] = 1\n",
    "    \n",
    "    deg_seq = np.sum(M, axis = 1)\n",
    "    number_of_vertex = deg_seq.count(k)\n",
    "\n",
    "    return number_of_vertex\n",
    "\n",
    "def maximal_plot(N,p,S):\n",
    "    #num_cores = multiprocessing.cpu_count()\n",
    "    inputs = range(0,S)\n",
    "\n",
    "    mylist = []\n",
    "    mylist = Parallel(n_jobs = -1)(delayed(simulate_graph_maximal)(N,p) for i in inputs)\n",
    "    plt.figure(facecolor='whitesmoke')\n",
    "    plt.hist(mylist, density = True)\n",
    "    filename = f\"Graph of size {N} and Number of iteration {S}\"\n",
    "    plt.title(filename)\n",
    "    plt.savefig(fname = filename, dpi = 800, transparent = False)\n",
    "    return np.mean(mylist), np.var(mylist)"
   ]
  },
  {
   "cell_type": "code",
   "execution_count": 53,
   "id": "6ebfbe3b",
   "metadata": {},
   "outputs": [
    {
     "name": "stdout",
     "output_type": "stream",
     "text": [
      "CPU times: user 2.29 s, sys: 285 ms, total: 2.58 s\n",
      "Wall time: 30.6 s\n"
     ]
    },
    {
     "data": {
      "image/png": "[encoded data removed]",
      "text/plain": [
       "<Figure size 432x288 with 1 Axes>"
      ]
     },
     "metadata": {},
     "output_type": "display_data"
    }
   ],
   "source": [
    "%%time\n",
    "x = maximal_plot(500, .1, 100)"
   ]
  },
  {
   "cell_type": "code",
   "execution_count": 31,
   "id": "9a186153",
   "metadata": {},
   "outputs": [
    {
     "data": {
      "text/plain": [
       "(13.7, 8.25)"
      ]
     },
     "execution_count": 31,
     "metadata": {},
     "output_type": "execute_result"
    }
   ],
   "source": [
    "x"
   ]
  },
  {
   "cell_type": "code",
   "execution_count": 8,
   "id": "847edb68",
   "metadata": {},
   "outputs": [
    {
     "data": {
      "text/plain": [
       "2.9166666666666665"
      ]
     },
     "execution_count": 8,
     "metadata": {},
     "output_type": "execute_result"
    }
   ],
   "source": [
    "v = [1,2,3,4,5,6]\n",
    "np.var(v)"
   ]
  },
  {
   "cell_type": "code",
   "execution_count": 4,
   "id": "ec5c0f1d",
   "metadata": {},
   "outputs": [
    {
     "data": {
      "text/plain": [
       "array([1, 2, 5, 7])"
      ]
     },
     "execution_count": 4,
     "metadata": {},
     "output_type": "execute_result"
    }
   ],
   "source": [
    "a = [2,5,1,7]\n",
    "np.sort(a)"
   ]
  },
  {
   "cell_type": "code",
   "execution_count": 14,
   "id": "3c6f77d3",
   "metadata": {},
   "outputs": [
    {
     "data": {
      "text/plain": [
       "1"
      ]
     },
     "execution_count": 14,
     "metadata": {},
     "output_type": "execute_result"
    }
   ],
   "source": [
    "a[-2]"
   ]
  },
  {
   "cell_type": "code",
   "execution_count": 35,
   "id": "80db3ff5",
   "metadata": {},
   "outputs": [],
   "source": [
    "?plt.savefig"
   ]
  },
  {
   "cell_type": "code",
   "execution_count": null,
   "id": "463c051f",
   "metadata": {},
   "outputs": [],
   "source": []
  }
 ],
 "metadata": {
  "kernelspec": {
   "display_name": "Python 3 (ipykernel)",
   "language": "python",
   "name": "python3"
  },
  "language_info": {
   "codemirror_mode": {
    "name": "ipython",
    "version": 3
   },
   "file_extension": ".py",
   "mimetype": "text/x-python",
   "name": "python",
   "nbconvert_exporter": "python",
   "pygments_lexer": "ipython3",
   "version": "3.8.10"
  }
 },
 "nbformat": 4,
 "nbformat_minor": 5
}
